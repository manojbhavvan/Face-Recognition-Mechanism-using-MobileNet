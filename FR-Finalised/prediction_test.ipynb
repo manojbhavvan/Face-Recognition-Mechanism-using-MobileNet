{
 "cells": [
  {
   "cell_type": "code",
   "execution_count": 17,
   "metadata": {},
   "outputs": [],
   "source": [
    "import numpy as np\n",
    "from PIL import Image\n",
    "from PIL import ImageOps\n",
    "import sys\n",
    "import os\n",
    "import requests\n",
    "from io import BytesIO\n",
    "\n",
    "from keras.models import load_model"
   ]
  },
  {
   "cell_type": "code",
   "execution_count": 18,
   "metadata": {},
   "outputs": [],
   "source": [
    "def resize(image_path):\n",
    "    \"\"\"\n",
    "    Pick a basic color (Black) and pad the images that do not have a 1:1 aspect ratio.\n",
    "    Reshape without stretching to a 128x128 pixel array shape\n",
    "    \"\"\"\n",
    "    \n",
    "    im = Image.open(image_path)\n",
    "        \n",
    "    desired_size = 128\n",
    "    old_size = im.size  # old_size[0] is in (width, height) format\n",
    "\n",
    "    ratio = float(desired_size)/max(old_size)\n",
    "    new_size = tuple([int(x*ratio) for x in old_size])\n",
    "\n",
    "    im = im.resize(new_size, Image.ANTIALIAS)\n",
    "    \n",
    "    # create a new image and paste the resized on it\n",
    "    new_im = Image.new(\"RGB\", (desired_size, desired_size))\n",
    "    new_im.paste(im, ((desired_size-new_size[0])//2,\n",
    "                        (desired_size-new_size[1])//2))\n",
    "    delta_w = desired_size - new_size[0]\n",
    "    delta_h = desired_size - new_size[1]\n",
    "    padding = (delta_w//2, delta_h//2, delta_w-(delta_w//2), delta_h-(delta_h//2))\n",
    "    new_im = ImageOps.expand(im, padding)\n",
    "\n",
    "    filename, file_extension = os.path.splitext(image_path)\n",
    "    new_filename = filename + \"_resized.jpeg\"\n",
    "    new_im.save(new_filename, \"JPEG\")\n",
    "    \n",
    "    return new_filename"
   ]
  },
  {
   "cell_type": "code",
   "execution_count": 19,
   "metadata": {},
   "outputs": [],
   "source": [
    "def equalize_image(image_path): #\"imagename_resized.JPEG\"\n",
    "    \"\"\"\n",
    "    Ensure for each image that the pixel range is [0,255] (constrast stretching)\n",
    "    by applying the equalise method (normalise works also)\n",
    "    \"\"\"\n",
    "    im = Image.open(image_path)\n",
    "    \n",
    "    # Plotting histogram for resized image\n",
    "    #im_array = np.array(im)\n",
    "    #plt.hist(im_array.flatten(), bins=50, range=(0.0, 300))\n",
    "    \n",
    "    # Equalize image\n",
    "    im_out = ImageOps.equalize(im)\n",
    "    \n",
    "    # Save equalized image\n",
    "    filename, file_extension = os.path.splitext(image_path) \n",
    "    new_filename = filename + \"_equalized.jpeg\"\n",
    "    im_out.save(new_filename, \"JPEG\")\n",
    "    \n",
    "    return new_filename"
   ]
  },
  {
   "cell_type": "code",
   "execution_count": 20,
   "metadata": {},
   "outputs": [],
   "source": [
    "def image_to_array(image_path):\n",
    "\n",
    "    im = Image.open(image_path)\n",
    "    return np.array(im, dtype=float)\n"
   ]
  },
  {
   "cell_type": "code",
   "execution_count": 21,
   "metadata": {},
   "outputs": [],
   "source": [
    "def label_decoder(key):\n",
    "    label_mapping = {\n",
    "        \"1\" : \"jennie\",\n",
    "        \"2\" : \"jisoo\",\n",
    "        \"3\" : \"lisa\",\n",
    "        \"4\" : \"rose\"\n",
    "    }\n",
    "    return label_mapping[key]"
   ]
  },
  {
   "cell_type": "code",
   "execution_count": 22,
   "metadata": {},
   "outputs": [],
   "source": [
    "def run_model(data):\n",
    "    \"\"\"\n",
    "    Load Keras model (.yaml) and weights (.h5), and predict image label\n",
    "    Input: Image pixels array\n",
    "    Output: Predicted label\n",
    "    \"\"\"\n",
    "    \n",
    "    # Load Keras Model\n",
    "    loaded_model = load_model('Final_Model.model')\n",
    "\n",
    "    # Predict results array (array of 12 elements, one 1.0 and 11 are 0.0's)\n",
    "    result_array = loaded_model.predict(data).tolist()[0]\n",
    "    \n",
    "    # Get the position of the element 1.0 within the array\n",
    "    index = result_array.index(max(result_array)) + 1\n",
    "    \n",
    "    # Decode results\n",
    "    predicted_label = label_decoder(str(index))\n",
    "    \n",
    "    return predicted_label"
   ]
  },
  {
   "cell_type": "code",
   "execution_count": 26,
   "metadata": {},
   "outputs": [],
   "source": [
    "import tensorflow as tf\n",
    "import keras.models\n",
    "\n",
    "def main(image_path):\n",
    "    # Pre-process image\n",
    "    print('Image :', image_path.split('/')[1])\n",
    "    resized_image_path = resize(image_path)\n",
    "    preprocessed_img_path = equalize_image(resized_image_path)\n",
    "\n",
    "    # Converting image to Numpy array\n",
    "    numpy_data = image_to_array(preprocessed_img_path)\n",
    "    image = np.expand_dims(numpy_data , axis=0)\n",
    "    images = np.vstack([image])\n",
    "#preprocessing the image for testing based on the parameter of the model\n",
    "\n",
    "    predicted_batch = loaded_model.predict(images)\n",
    "    predicted_id = tf.math.argmax(predicted_batch, axis=-1)\n",
    "    predicted_label = classes[tuple(predicted_id)]\n",
    "\n",
    "    # Predict label using Keras Mutli-Class model\n",
    "    result_label = run_model(numpy_data)\n",
    "\n",
    "    print('Predicted : ' + result_label + '\\n')\n",
    "\n",
    "    # Cleaning up\n",
    "    os.remove(resized_image_path)\n",
    "    os.remove(preprocessed_img_path)"
   ]
  },
  {
   "cell_type": "code",
   "execution_count": 27,
   "metadata": {},
   "outputs": [
    {
     "name": "stdout",
     "output_type": "stream",
     "text": [
      "Image : Users\n"
     ]
    },
    {
     "ename": "NameError",
     "evalue": "name 'loaded_model' is not defined",
     "output_type": "error",
     "traceback": [
      "\u001b[1;31m---------------------------------------------------------------------------\u001b[0m",
      "\u001b[1;31mNameError\u001b[0m                                 Traceback (most recent call last)",
      "\u001b[1;32m~\\AppData\\Local\\Temp/ipykernel_12828/2862937991.py\u001b[0m in \u001b[0;36m<module>\u001b[1;34m\u001b[0m\n\u001b[1;32m----> 1\u001b[1;33m \u001b[0mmain\u001b[0m\u001b[1;33m(\u001b[0m\u001b[1;34m\"C:/Users/Admin/Desktop/FR Dataset/test/test2.jpg\"\u001b[0m\u001b[1;33m)\u001b[0m\u001b[1;33m\u001b[0m\u001b[1;33m\u001b[0m\u001b[0m\n\u001b[0m",
      "\u001b[1;32m~\\AppData\\Local\\Temp/ipykernel_12828/3118633859.py\u001b[0m in \u001b[0;36mmain\u001b[1;34m(image_path)\u001b[0m\n\u001b[0;32m     14\u001b[0m \u001b[1;31m#preprocessing the image for testing based on the parameter of the model\u001b[0m\u001b[1;33m\u001b[0m\u001b[1;33m\u001b[0m\u001b[0m\n\u001b[0;32m     15\u001b[0m \u001b[1;33m\u001b[0m\u001b[0m\n\u001b[1;32m---> 16\u001b[1;33m     \u001b[0mpredicted_batch\u001b[0m \u001b[1;33m=\u001b[0m \u001b[0mloaded_model\u001b[0m\u001b[1;33m.\u001b[0m\u001b[0mpredict\u001b[0m\u001b[1;33m(\u001b[0m\u001b[0mimages\u001b[0m\u001b[1;33m)\u001b[0m\u001b[1;33m\u001b[0m\u001b[1;33m\u001b[0m\u001b[0m\n\u001b[0m\u001b[0;32m     17\u001b[0m     \u001b[0mpredicted_id\u001b[0m \u001b[1;33m=\u001b[0m \u001b[0mtf\u001b[0m\u001b[1;33m.\u001b[0m\u001b[0mmath\u001b[0m\u001b[1;33m.\u001b[0m\u001b[0margmax\u001b[0m\u001b[1;33m(\u001b[0m\u001b[0mpredicted_batch\u001b[0m\u001b[1;33m,\u001b[0m \u001b[0maxis\u001b[0m\u001b[1;33m=\u001b[0m\u001b[1;33m-\u001b[0m\u001b[1;36m1\u001b[0m\u001b[1;33m)\u001b[0m\u001b[1;33m\u001b[0m\u001b[1;33m\u001b[0m\u001b[0m\n\u001b[0;32m     18\u001b[0m     \u001b[0mpredicted_label\u001b[0m \u001b[1;33m=\u001b[0m \u001b[0mclasses\u001b[0m\u001b[1;33m[\u001b[0m\u001b[0mtuple\u001b[0m\u001b[1;33m(\u001b[0m\u001b[0mpredicted_id\u001b[0m\u001b[1;33m)\u001b[0m\u001b[1;33m]\u001b[0m\u001b[1;33m\u001b[0m\u001b[1;33m\u001b[0m\u001b[0m\n",
      "\u001b[1;31mNameError\u001b[0m: name 'loaded_model' is not defined"
     ]
    }
   ],
   "source": [
    "\n",
    "main(\"C:/Users/Admin/Desktop/FR Dataset/test/test2.jpg\")"
   ]
  }
 ],
 "metadata": {
  "interpreter": {
   "hash": "8dc1e68c45bb5919b211ee434b6ce595d2044b0e91621df93cfecc3637acfc12"
  },
  "kernelspec": {
   "display_name": "Python 3.9.9 64-bit",
   "language": "python",
   "name": "python3"
  },
  "language_info": {
   "codemirror_mode": {
    "name": "ipython",
    "version": 3
   },
   "file_extension": ".py",
   "mimetype": "text/x-python",
   "name": "python",
   "nbconvert_exporter": "python",
   "pygments_lexer": "ipython3",
   "version": "3.9.9"
  },
  "orig_nbformat": 4
 },
 "nbformat": 4,
 "nbformat_minor": 2
}
